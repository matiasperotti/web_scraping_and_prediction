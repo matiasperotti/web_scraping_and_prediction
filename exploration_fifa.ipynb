{
 "cells": [
  {
   "cell_type": "code",
   "execution_count": 42,
   "metadata": {},
   "outputs": [
    {
     "name": "stderr",
     "output_type": "stream",
     "text": [
      "/tmp/ipykernel_11931/3772313008.py:26: DeprecationWarning: use options instead of chrome_options\n",
      "  driver = webdriver.Chrome(options=options, chrome_options=chrome_options, executable_path='/usr/bin/chromedriver')\n"
     ]
    }
   ],
   "source": [
    "from selenium import webdriver\n",
    "from selenium.webdriver.common.keys import Keys\n",
    "import time\n",
    "from selenium.webdriver.chrome.options import Options\n",
    "from selenium.webdriver.common.action_chains import ActionChains\n",
    "from selenium.webdriver.common.by import By\n",
    "import pandas as pd\n",
    "\n",
    "adblock = '/home/user/Desktop/futbol/Adblock-Plusfree-ad-blocker.crx'\n",
    "\n",
    "\n",
    "options = Options()\n",
    "options.add_extension(adblock)\n",
    "\n",
    "\n",
    "options.headless = False#original con True\n",
    "\n",
    "chrome_options = webdriver.ChromeOptions()\n",
    "\n",
    "chrome_options.add_argument('--blink-settings=imagesEnabled=false')\n",
    "\n",
    "chrome_options.add_experimental_option(\n",
    "    \"prefs\", {\"profile.managed_default_content_settings.images\": 2}\n",
    ")\n",
    "\n",
    "driver = webdriver.Chrome(options=options, chrome_options=chrome_options, executable_path='/usr/bin/chromedriver')\n",
    "\n",
    "\n",
    "driver.set_window_size(1920, 1080)\n",
    "\n",
    "url = 'https://www.fifaindex.com'\n",
    "driver.get(url)\n",
    "\n",
    "\n",
    "\n",
    "input_field = driver.find_element(By.ID, 'site-search')\n",
    "\n",
    "\n",
    "\n",
    "input_field.send_keys('lionel messi')\n",
    "driver.execute_script(\"document.getElementById('site-search').click();\")\n",
    "\n",
    "actions = ActionChains(driver)\n",
    "\n",
    "\n",
    "actions.click(input_field).perform()\n",
    "\n",
    "time.sleep(7) # idealmente esto es reemplazado con algo que checkea que ya aparecio la lista\n",
    "\n",
    "\n",
    "input_field.send_keys(Keys.RETURN)\n",
    "\n",
    "\n",
    "#driver.quit()\n",
    "\n"
   ]
  },
  {
   "cell_type": "code",
   "execution_count": 43,
   "metadata": {},
   "outputs": [],
   "source": [
    "elementos_indice = driver.find_elements(By.XPATH, '//*[@class=\"item\"]')\n",
    "aa = []\n",
    "\n",
    "for elemento in elementos_indice:\n",
    "    aa.append(elemento.text)"
   ]
  },
  {
   "cell_type": "code",
   "execution_count": 44,
   "metadata": {},
   "outputs": [
    {
     "name": "stdout",
     "output_type": "stream",
     "text": [
      "['Sort By', 'Ball Skills\\nBall Control\\n93\\nDribbling\\n95', 'Defence\\nMarking\\nNone\\nSlide Tackle\\n24\\nStand Tackle\\n35', 'Mental\\nAggression\\n44\\nReactions\\n92\\nAtt. Position\\n93\\nInterceptions\\n40\\nVision\\n94\\nComposure\\n96', 'Passing\\nCrossing\\n84\\nShort Pass\\n91\\nLong Pass\\n90', 'Physical\\nAcceleration\\n87\\nStamina\\n70\\nStrength\\n68\\nBalance\\n95\\nSprint Speed\\n76\\nAgility\\n91\\nJumping\\n68', 'Shooting\\nHeading\\n70\\nShot Power\\n86\\nFinishing\\n90\\nLong Shots\\n91\\nCurve\\n93\\nFK Acc.\\n93\\nPenalties\\n75\\nVolleys\\n88', 'Goalkeeper\\nGK Positioning\\n14\\nGK Diving\\n6\\nGK Handling\\n11\\nGK Kicking\\n15\\nGK Reflexes\\n8', 'Specialities\\nDribbler\\nDistance Shooter\\nFK Specialist\\nAcrobat\\nClinical Finisher', 'Traits\\nFinesse Shot\\nLong Shot Taker (CPU AI Only)\\nPlaymaker (CPU AI Only)\\nOutside Foot Shot\\nChip Shot (CPU AI Only)\\nTechnical Dribbler (CPU AI Only)']\n"
     ]
    }
   ],
   "source": [
    "print(aa)"
   ]
  },
  {
   "cell_type": "code",
   "execution_count": 45,
   "metadata": {},
   "outputs": [
    {
     "name": "stdout",
     "output_type": "stream",
     "text": [
      "['Ball Skills', 'Ball Control', '93', 'Dribbling', '95', 'Defence', 'Marking', 'None', 'Slide Tackle', '24', 'Stand Tackle', '35', 'Mental', 'Aggression', '44', 'Reactions', '92', 'Att. Position', '93', 'Interceptions', '40', 'Vision', '94', 'Composure', '96', 'Passing', 'Crossing', '84', 'Short Pass', '91', 'Long Pass', '90', 'Physical', 'Acceleration', '87', 'Stamina', '70', 'Strength', '68', 'Balance', '95', 'Sprint Speed', '76', 'Agility', '91', 'Jumping', '68', 'Shooting', 'Heading', '70', 'Shot Power', '86', 'Finishing', '90', 'Long Shots', '91', 'Curve', '93', 'FK Acc.', '93', 'Penalties', '75', 'Volleys', '88', 'Goalkeeper', 'GK Positioning', '14', 'GK Diving', '6', 'GK Handling', '11', 'GK Kicking', '15', 'GK Reflexes', '8', 'Specialities', 'Dribbler', 'Distance Shooter', 'FK Specialist', 'Acrobat', 'Clinical Finisher', 'Traits', 'Finesse Shot', 'Long Shot Taker (CPU AI Only)', 'Playmaker (CPU AI Only)', 'Outside Foot Shot', 'Chip Shot (CPU AI Only)', 'Technical Dribbler (CPU AI Only)']\n"
     ]
    }
   ],
   "source": [
    "listapalabras = []\n",
    "\n",
    "\n",
    "#variable_anterior = ''\n",
    "for elemento in aa:\n",
    "    if '\\n' in elemento:\n",
    "        palabras = elemento.split('\\n')\n",
    "\n",
    "        listapalabras.append(palabras)\n",
    "\n",
    "\n",
    "lista_plana = []\n",
    "\n",
    "\n",
    "for sublist in listapalabras:\n",
    "    lista_plana.extend(sublist)\n",
    "\n",
    "print(lista_plana)"
   ]
  },
  {
   "cell_type": "code",
   "execution_count": 46,
   "metadata": {},
   "outputs": [],
   "source": [
    "anterior = ''\n",
    "for i in range(len(lista_plana)):\n",
    "    if anterior == 'Ball Control':  Ball_Control =      lista_plana[i]\n",
    "    if anterior == 'Dribbling':     Dribbling =         lista_plana[i]\n",
    "    if anterior == 'Marking':       Marking =           lista_plana[i]\n",
    "    if anterior == 'Slide Tackle':  Slide_Tackle =      lista_plana[i]\n",
    "    if anterior == 'Stand Tackle':  Stand_Tackle =      lista_plana[i]\n",
    "    if anterior == 'Aggression':    Aggression =        lista_plana[i]\n",
    "    if anterior == 'Reactions':     Reactions =         lista_plana[i]\n",
    "    if anterior == 'Att. Position': Att_Position =      lista_plana[i]\n",
    "    if anterior == 'Interceptions': Interceptions =     lista_plana[i]\n",
    "    if anterior == 'Vision':        Vision =            lista_plana[i]\n",
    "    if anterior == 'Short Pass':    Short_Pass =        lista_plana[i]\n",
    "    if anterior == 'Long Pass':     Long_Pass =         lista_plana[i]\n",
    "    if anterior == 'Acceleration':  Acceleration =      lista_plana[i]\n",
    "    if anterior == 'Stamina':       Stamina =           lista_plana[i]\n",
    "    if anterior == 'Strength':      Strength =          lista_plana[i]\n",
    "    if anterior == 'Balance':       Balance =           lista_plana[i]\n",
    "    if anterior == 'Sprint Speed':  Sprint_Speed =      lista_plana[i]\n",
    "    if anterior == 'Agility':       Agility =           lista_plana[i]\n",
    "    if anterior == 'Jumping':       Jumping =           lista_plana[i]\n",
    "    if anterior == 'Heading':       Heading =           lista_plana[i]\n",
    "    if anterior == 'Shot Power':    Shot_Power =        lista_plana[i]\n",
    "    if anterior == 'Finishing':     Finishing =         lista_plana[i]\n",
    "    if anterior == 'Long Shots':    Long_Shots =        lista_plana[i]\n",
    "    if anterior == 'Curve':         Curve =             lista_plana[i]\n",
    "    if anterior == 'FK Acc.':       FK_Acc =            lista_plana[i]\n",
    "    if anterior == 'Penalties':     Penalties =         lista_plana[i]\n",
    "    if anterior == 'Volleys':       Volleys =           lista_plana[i]\n",
    "    if anterior == 'GK Positioning':GK_Positioning =    lista_plana[i]\n",
    "    if anterior == 'GK Diving':     GK_Diving =         lista_plana[i]\n",
    "    if anterior == 'GK Handling':   GK_Handling =       lista_plana[i]\n",
    "    if anterior == 'GK Kicking':    GK_Kicking =        lista_plana[i]\n",
    "    if anterior == 'GK Reflexes':   GK_Reflexes =       lista_plana[i]\n",
    "\n",
    "    anterior = lista_plana[i]"
   ]
  },
  {
   "cell_type": "code",
   "execution_count": 47,
   "metadata": {},
   "outputs": [
    {
     "name": "stdout",
     "output_type": "stream",
     "text": [
      "93\n"
     ]
    }
   ],
   "source": [
    "print(Ball_Control)"
   ]
  },
  {
   "cell_type": "code",
   "execution_count": 48,
   "metadata": {},
   "outputs": [],
   "source": [
    "d = [Ball_Control, Dribbling, Marking, Slide_Tackle ,Stand_Tackle, Aggression, Reactions,\n",
    "            Att_Position, Interceptions, Vision, Short_Pass, Long_Pass, Acceleration,\n",
    "            Stamina, Strength, Balance, Sprint_Speed, Agility, Jumping, Heading, Shot_Power, Finishing,\n",
    "            Long_Shots, Curve, FK_Acc, Penalties, Volleys, GK_Positioning, GK_Diving, GK_Handling, \n",
    "            GK_Kicking, GK_Reflexes ,Height, Weight, Age]###"
   ]
  },
  {
   "cell_type": "code",
   "execution_count": 49,
   "metadata": {},
   "outputs": [
    {
     "data": {
      "text/plain": [
       "['93',\n",
       " '95',\n",
       " 'None',\n",
       " '24',\n",
       " '35',\n",
       " '44',\n",
       " '92',\n",
       " '93',\n",
       " '40',\n",
       " '94',\n",
       " '91',\n",
       " '90',\n",
       " '87',\n",
       " '70',\n",
       " '68',\n",
       " '95',\n",
       " '76',\n",
       " '91',\n",
       " '68',\n",
       " '70',\n",
       " '86',\n",
       " '90',\n",
       " '91',\n",
       " '93',\n",
       " '93',\n",
       " '75',\n",
       " '88',\n",
       " '14',\n",
       " '6',\n",
       " '11',\n",
       " '15',\n",
       " '8',\n",
       " 169,\n",
       " 67,\n",
       " 35]"
      ]
     },
     "execution_count": 49,
     "metadata": {},
     "output_type": "execute_result"
    }
   ],
   "source": [
    "d"
   ]
  },
  {
   "cell_type": "code",
   "execution_count": 7,
   "metadata": {},
   "outputs": [
    {
     "name": "stdout",
     "output_type": "stream",
     "text": [
      "93\n"
     ]
    }
   ],
   "source": [
    "print(Ball_Control)"
   ]
  },
  {
   "cell_type": "code",
   "execution_count": 8,
   "metadata": {},
   "outputs": [],
   "source": [
    "import re\n",
    "def extraer_numero(texto):\n",
    "    numeros = re.findall(r'\\d+', texto)\n",
    "\n",
    "    if numeros:\n",
    "        return int(numeros[0])\n",
    "    \n",
    "    return None\n",
    "\n",
    "\n",
    "\n",
    "elementos_indice = driver.find_elements(By.XPATH, '//*[@class=\"card-body\"]')\n",
    "aa = []\n",
    "\n",
    "for elemento in elementos_indice:\n",
    "    aa.append(elemento.text)\n",
    "\n",
    "\n",
    "listapalabras = []\n",
    "\n",
    "variable_anterior = ''\n",
    "for elemento in aa:\n",
    "    if '\\n' in elemento:\n",
    "        palabras = elemento.split('\\n')\n",
    "\n",
    "        listapalabras.append(palabras)\n",
    "\n",
    "lista_plana = []\n",
    "\n",
    "for sublist in listapalabras:\n",
    "    lista_plana.extend(sublist)\n",
    "\n",
    "\n",
    "\n",
    "anterior = ''\n",
    "for i in range(len(lista_plana)):\n",
    "    if anterior == 'Height':  Height =      extraer_numero(lista_plana[i])\n",
    "    if anterior == 'Weight':  Weight =      extraer_numero(lista_plana[i])\n",
    "    if anterior == 'Age':     Age =         extraer_numero(lista_plana[i])\n",
    "    anterior = lista_plana[i]\n",
    "\n",
    "\n"
   ]
  },
  {
   "cell_type": "code",
   "execution_count": 9,
   "metadata": {},
   "outputs": [],
   "source": [
    "driver.quit()\n"
   ]
  },
  {
   "cell_type": "code",
   "execution_count": 10,
   "metadata": {},
   "outputs": [
    {
     "name": "stdout",
     "output_type": "stream",
     "text": [
      "93\n"
     ]
    }
   ],
   "source": [
    "print(Ball_Control)"
   ]
  },
  {
   "cell_type": "code",
   "execution_count": 12,
   "metadata": {},
   "outputs": [
    {
     "name": "stdout",
     "output_type": "stream",
     "text": [
      "93 95 None 24 35 44 92 93 40 94 91 90 87 70 68 95 76 91 68 70 86 90 91 93 93 75 88 14 6 11 15 8 169 67 35\n"
     ]
    }
   ],
   "source": [
    "print(Ball_Control, Dribbling, Marking, Slide_Tackle ,Stand_Tackle, Aggression, Reactions,\n",
    "            Att_Position, Interceptions, Vision, Short_Pass, Long_Pass, Acceleration,\n",
    "            Stamina, Strength, Balance, Sprint_Speed, Agility, Jumping, Heading, Shot_Power, Finishing,\n",
    "            Long_Shots, Curve, FK_Acc, Penalties, Volleys, GK_Positioning, GK_Diving, GK_Handling, \n",
    "            GK_Kicking, GK_Reflexes ,Height, Weight, Age)"
   ]
  }
 ],
 "metadata": {
  "kernelspec": {
   "display_name": "pedo",
   "language": "python",
   "name": "pedo"
  },
  "language_info": {
   "codemirror_mode": {
    "name": "ipython",
    "version": 3
   },
   "file_extension": ".py",
   "mimetype": "text/x-python",
   "name": "python",
   "nbconvert_exporter": "python",
   "pygments_lexer": "ipython3",
   "version": "3.10.8"
  },
  "orig_nbformat": 4
 },
 "nbformat": 4,
 "nbformat_minor": 2
}
