{
 "cells": [
  {
   "cell_type": "code",
   "execution_count": null,
   "metadata": {},
   "outputs": [],
   "source": []
  },
  {
   "cell_type": "code",
   "execution_count": null,
   "metadata": {},
   "outputs": [],
   "source": []
  },
  {
   "cell_type": "code",
   "execution_count": 1,
   "metadata": {},
   "outputs": [
    {
     "name": "stdout",
     "output_type": "stream",
     "text": [
      "https://onefootball.com/es/partido/2372424\n",
      "https://onefootball.com/es/partido/2376344\n",
      "https://onefootball.com/es/partido/2374635\n",
      "https://onefootball.com/es/partido/2373520\n",
      "https://onefootball.com/es/partido/2361777\n",
      "https://onefootball.com/es/partido/2370514\n",
      "https://onefootball.com/es/partido/2370513\n"
     ]
    }
   ],
   "source": [
    "from selenium import webdriver\n",
    "\n",
    "def obtener_hrefs_con_clase(clase):\n",
    "    driver = webdriver.Chrome()\n",
    "    driver.get('https://onefootball.com/es/partidos?date=2-03-27')\n",
    "\n",
    "    elementos = driver.find_elements_by_css_selector('.' + clase)\n",
    "\n",
    "    hrefs = []\n",
    "    for elemento in elementos:\n",
    "        href = elemento.get_attribute('href')\n",
    "        hrefs.append(href)\n",
    "\n",
    "    driver.quit()\n",
    "\n",
    "    return hrefs\n",
    "\n",
    "# Uso de la función\n",
    "clase = \"MatchCard_matchCard__JSuaw\"\n",
    "hrefs = obtener_hrefs_con_clase(clase)\n",
    "for href in hrefs:\n",
    "    print(href)"
   ]
  },
  {
   "cell_type": "code",
   "execution_count": null,
   "metadata": {},
   "outputs": [],
   "source": []
  }
 ],
 "metadata": {
  "kernelspec": {
   "display_name": "pedo",
   "language": "python",
   "name": "pedo"
  },
  "language_info": {
   "codemirror_mode": {
    "name": "ipython",
    "version": 3
   },
   "file_extension": ".py",
   "mimetype": "text/x-python",
   "name": "python",
   "nbconvert_exporter": "python",
   "pygments_lexer": "ipython3",
   "version": "3.10.8"
  },
  "orig_nbformat": 4
 },
 "nbformat": 4,
 "nbformat_minor": 2
}
