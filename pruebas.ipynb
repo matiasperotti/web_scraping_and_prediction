{
 "cells": [
  {
   "cell_type": "code",
   "execution_count": 1,
   "metadata": {},
   "outputs": [],
   "source": [
    "from fifa_function import statistics"
   ]
  },
  {
   "cell_type": "code",
   "execution_count": 2,
   "metadata": {},
   "outputs": [
    {
     "name": "stdout",
     "output_type": "stream",
     "text": [
      "['Ball Skills', 'Ball Control', '93', 'Dribbling', '95', 'Defence', 'Marking', 'None', 'Slide Tackle', '24', 'Stand Tackle', '35', 'Mental', 'Aggression', '44', 'Reactions', '92', 'Att. Position', '93', 'Interceptions', '40', 'Vision', '94', 'Composure', '96', 'Passing', 'Crossing', '84', 'Short Pass', '91', 'Long Pass', '90', 'Physical', 'Acceleration', '87', 'Stamina', '70', 'Strength', '68', 'Balance', '95', 'Sprint Speed', '76', 'Agility', '91', 'Jumping', '68', 'Shooting', 'Heading', '70', 'Shot Power', '86', 'Finishing', '90', 'Long Shots', '91', 'Curve', '93', 'FK Acc.', '93', 'Penalties', '75', 'Volleys', '88', 'Goalkeeper', 'GK Positioning', '14', 'GK Diving', '6', 'GK Handling', '11', 'GK Kicking', '15', 'GK Reflexes', '8', 'Specialities', 'Dribbler', 'Distance Shooter', 'FK Specialist', 'Acrobat', 'Clinical Finisher', 'Traits', 'Finesse Shot', 'Long Shot Taker (CPU AI Only)', 'Playmaker (CPU AI Only)', 'Outside Foot Shot', 'Chip Shot (CPU AI Only)', 'Technical Dribbler (CPU AI Only)']\n"
     ]
    }
   ],
   "source": [
    "a = statistics('lionel messi')"
   ]
  },
  {
   "cell_type": "code",
   "execution_count": 3,
   "metadata": {},
   "outputs": [
    {
     "name": "stdout",
     "output_type": "stream",
     "text": [
      "{'11', '44', '35', '87', '95', 35, '76', 169, '6', '15', '8', '90', '86', '68', '70', 67, '93', '94', '88', '75', '40', 'None', '92', '14', '24', '91'}\n"
     ]
    }
   ],
   "source": [
    "print(a)"
   ]
  },
  {
   "cell_type": "code",
   "execution_count": 1,
   "metadata": {},
   "outputs": [],
   "source": [
    "from one_function import matches"
   ]
  },
  {
   "cell_type": "code",
   "execution_count": 5,
   "metadata": {},
   "outputs": [],
   "source": [
    "#a = matches('2-03-27')\n",
    "a = matches('')"
   ]
  },
  {
   "cell_type": "code",
   "execution_count": 6,
   "metadata": {},
   "outputs": [
    {
     "name": "stdout",
     "output_type": "stream",
     "text": [
      "['https://onefootball.com/es/partido/2371983', 'https://onefootball.com/es/partido/2376345', 'https://onefootball.com/es/partido/2375919', 'https://onefootball.com/es/partido/2344746', 'https://onefootball.com/es/partido/2344860', 'https://onefootball.com/es/partido/2344853', 'https://onefootball.com/es/partido/2344745', 'https://onefootball.com/es/partido/2344871', 'https://onefootball.com/es/partido/2344856', 'https://onefootball.com/es/partido/2344858', 'https://onefootball.com/es/partido/2344854', 'https://onefootball.com/es/partido/2344857', 'https://onefootball.com/es/partido/2344852', 'https://onefootball.com/es/partido/2344855', 'https://onefootball.com/es/partido/2344859']\n"
     ]
    }
   ],
   "source": [
    "print(a)"
   ]
  },
  {
   "cell_type": "code",
   "execution_count": 6,
   "metadata": {},
   "outputs": [
    {
     "name": "stdout",
     "output_type": "stream",
     "text": [
      "2023-06-20\n"
     ]
    }
   ],
   "source": [
    "from datetime import date\n",
    "print(date.today().strftime('%Y-%m-%d'))"
   ]
  },
  {
   "cell_type": "code",
   "execution_count": 8,
   "metadata": {},
   "outputs": [
    {
     "name": "stdout",
     "output_type": "stream",
     "text": [
      "2023-06-19\n"
     ]
    }
   ],
   "source": [
    "from datetime import datetime, timedelta\n",
    "\n",
    "def previous_day(date):\n",
    "    date = datetime.strptime(date, '%Y-%m-%d')\n",
    "    p_date = date - timedelta(days=1)\n",
    "    return p_date.strftime('%Y-%m-%d') \n",
    "\n",
    "print(previous_day('2023-06-20'))"
   ]
  }
 ],
 "metadata": {
  "kernelspec": {
   "display_name": "pedo",
   "language": "python",
   "name": "pedo"
  },
  "language_info": {
   "codemirror_mode": {
    "name": "ipython",
    "version": 3
   },
   "file_extension": ".py",
   "mimetype": "text/x-python",
   "name": "python",
   "nbconvert_exporter": "python",
   "pygments_lexer": "ipython3",
   "version": "3.10.8"
  },
  "orig_nbformat": 4
 },
 "nbformat": 4,
 "nbformat_minor": 2
}
