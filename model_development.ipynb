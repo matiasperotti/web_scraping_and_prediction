{
 "cells": [
  {
   "cell_type": "code",
   "execution_count": 34,
   "metadata": {},
   "outputs": [],
   "source": [
    "import tensorflow as tf"
   ]
  },
  {
   "cell_type": "code",
   "execution_count": 35,
   "metadata": {},
   "outputs": [],
   "source": [
    "import autokeras as ak"
   ]
  },
  {
   "cell_type": "code",
   "execution_count": 36,
   "metadata": {},
   "outputs": [],
   "source": [
    "import pandas as pd\n",
    "from sklearn.model_selection import train_test_split\n",
    "import numpy as np\n",
    "\n",
    "df = pd.read_csv('data/experimental_df.csv')\n"
   ]
  },
  {
   "cell_type": "code",
   "execution_count": 37,
   "metadata": {},
   "outputs": [],
   "source": [
    "X_train = df.drop(columns=['Winner'])\n",
    "X_train = X_train.drop(columns=['Unnamed: 0'])\n",
    "X_train = X_train.drop(columns=['1Quantity'])\n",
    "X_train = X_train.drop(columns=['2Quantity'])\n",
    "y_train = df['Winner'].astype(int)"
   ]
  },
  {
   "cell_type": "code",
   "execution_count": 38,
   "metadata": {},
   "outputs": [
    {
     "data": {
      "text/plain": [
       "Index(['ball_control', 'Dribbling', 'Marking', 'Slide_Tackle', 'Stand_Tackle',\n",
       "       'Aggression', 'Reactions', 'Att_Position', 'Interceptions', 'Vision',\n",
       "       'Short_Pass', 'Long_Pass', 'Acceleration', 'Stamina', 'Strength',\n",
       "       'Balance', 'Sprint_Speed', 'Agility', 'Jumping', 'Heading',\n",
       "       'Shot_Power', 'Finishing', 'Long_Shots', 'Curve', 'FK_Acc', 'Penalties',\n",
       "       'Volleys', 'GK_Positioning', 'GK_Diving', 'GK_Handling', 'GK_Kicking',\n",
       "       'GK_Reflexes', 'Height', 'Weight', 'Age'],\n",
       "      dtype='object')"
      ]
     },
     "execution_count": 38,
     "metadata": {},
     "output_type": "execute_result"
    }
   ],
   "source": [
    "X_train.columns"
   ]
  },
  {
   "cell_type": "code",
   "execution_count": 39,
   "metadata": {},
   "outputs": [
    {
     "name": "stdout",
     "output_type": "stream",
     "text": [
      "Trial 57 Complete [00h 00m 03s]\n",
      "val_accuracy: 0.550000011920929\n",
      "\n",
      "Best val_accuracy So Far: 0.699999988079071\n",
      "Total elapsed time: 00h 02m 48s\n",
      "INFO:tensorflow:Oracle triggered exit\n",
      "Epoch 1/30\n",
      "11/11 [==============================] - 0s 3ms/step - loss: 1.2050 - accuracy: 0.3941\n",
      "Epoch 2/30\n",
      "11/11 [==============================] - 0s 3ms/step - loss: 1.0385 - accuracy: 0.4853\n",
      "Epoch 3/30\n",
      "11/11 [==============================] - 0s 3ms/step - loss: 0.9836 - accuracy: 0.5265\n",
      "Epoch 4/30\n",
      "11/11 [==============================] - 0s 3ms/step - loss: 0.9257 - accuracy: 0.5618\n",
      "Epoch 5/30\n",
      "11/11 [==============================] - 0s 3ms/step - loss: 0.8536 - accuracy: 0.6029\n",
      "Epoch 6/30\n",
      "11/11 [==============================] - 0s 3ms/step - loss: 0.8367 - accuracy: 0.6412\n",
      "Epoch 7/30\n",
      "11/11 [==============================] - 0s 3ms/step - loss: 0.8208 - accuracy: 0.6441\n",
      "Epoch 8/30\n",
      "11/11 [==============================] - 0s 3ms/step - loss: 0.6683 - accuracy: 0.7353\n",
      "Epoch 9/30\n",
      "11/11 [==============================] - 0s 3ms/step - loss: 0.6056 - accuracy: 0.7647\n",
      "Epoch 10/30\n",
      "11/11 [==============================] - 0s 3ms/step - loss: 0.5156 - accuracy: 0.8147\n",
      "Epoch 11/30\n",
      "11/11 [==============================] - 0s 3ms/step - loss: 0.4958 - accuracy: 0.8118\n",
      "Epoch 12/30\n",
      "11/11 [==============================] - 0s 3ms/step - loss: 0.4646 - accuracy: 0.8353\n",
      "Epoch 13/30\n",
      "11/11 [==============================] - 0s 3ms/step - loss: 0.4089 - accuracy: 0.8500\n",
      "Epoch 14/30\n",
      "11/11 [==============================] - 0s 3ms/step - loss: 0.3255 - accuracy: 0.8824\n",
      "Epoch 15/30\n",
      "11/11 [==============================] - 0s 3ms/step - loss: 0.2890 - accuracy: 0.9088\n",
      "Epoch 16/30\n",
      "11/11 [==============================] - 0s 3ms/step - loss: 0.2382 - accuracy: 0.9324\n",
      "Epoch 17/30\n",
      "11/11 [==============================] - 0s 3ms/step - loss: 0.2962 - accuracy: 0.8765\n",
      "Epoch 18/30\n",
      "11/11 [==============================] - 0s 3ms/step - loss: 0.3390 - accuracy: 0.8676\n",
      "Epoch 19/30\n",
      "11/11 [==============================] - 0s 3ms/step - loss: 0.3610 - accuracy: 0.8882\n",
      "Epoch 20/30\n",
      "11/11 [==============================] - 0s 3ms/step - loss: 0.2995 - accuracy: 0.8912\n",
      "Epoch 21/30\n",
      "11/11 [==============================] - 0s 3ms/step - loss: 0.2650 - accuracy: 0.9088\n",
      "Epoch 22/30\n",
      "11/11 [==============================] - 0s 3ms/step - loss: 0.2432 - accuracy: 0.9206\n",
      "Epoch 23/30\n",
      "11/11 [==============================] - 0s 3ms/step - loss: 0.6000 - accuracy: 0.8676\n",
      "Epoch 24/30\n",
      "11/11 [==============================] - 0s 3ms/step - loss: 0.3151 - accuracy: 0.9059\n",
      "Epoch 25/30\n",
      "11/11 [==============================] - 0s 3ms/step - loss: 0.3129 - accuracy: 0.9029\n",
      "Epoch 26/30\n",
      "11/11 [==============================] - 0s 3ms/step - loss: 0.3038 - accuracy: 0.9118\n",
      "Epoch 27/30\n",
      "11/11 [==============================] - 0s 3ms/step - loss: 0.4474 - accuracy: 0.9088\n",
      "Epoch 28/30\n",
      "11/11 [==============================] - 0s 3ms/step - loss: 0.2932 - accuracy: 0.9206\n",
      "Epoch 29/30\n",
      "11/11 [==============================] - 0s 3ms/step - loss: 0.1155 - accuracy: 0.9706\n",
      "Epoch 30/30\n",
      "11/11 [==============================] - 0s 3ms/step - loss: 0.1262 - accuracy: 0.9735\n",
      "INFO:tensorflow:Assets written to: ./structured_data_classifier/best_model/assets\n"
     ]
    },
    {
     "data": {
      "text/plain": [
       "<keras.callbacks.History at 0x7fa7dc4acdc0>"
      ]
     },
     "execution_count": 39,
     "metadata": {},
     "output_type": "execute_result"
    }
   ],
   "source": [
    "clf = ak.StructuredDataClassifier(overwrite=True, max_trials=200, metrics='accuracy')\n",
    "\n",
    "clf.fit(X_train, y_train, validation_split=0.15, epochs=30)\n",
    "#clf.fit(X_train, y_train, epochs=25)"
   ]
  },
  {
   "attachments": {},
   "cell_type": "markdown",
   "metadata": {},
   "source": [
    "custom_f1 from https://neptune.ai/blog/implementing-the-macro-f1-score-in-keras"
   ]
  },
  {
   "cell_type": "code",
   "execution_count": 40,
   "metadata": {},
   "outputs": [],
   "source": [
    "from tensorflow.keras import backend as K\n",
    "\n",
    "def custom_f1(y_true, y_pred):\n",
    "    def recall_m(y_true, y_pred):\n",
    "        TP = K.sum(K.round(K.clip(y_true * y_pred, 0, 1)))\n",
    "        Positives = K.sum(K.round(K.clip(y_true, 0, 1)))\n",
    "\n",
    "        recall = TP / (Positives+K.epsilon())\n",
    "        return recall\n",
    "\n",
    "\n",
    "    def precision_m(y_true, y_pred):\n",
    "        TP = K.sum(K.round(K.clip(y_true * y_pred, 0, 1)))\n",
    "        Pred_Positives = K.sum(K.round(K.clip(y_pred, 0, 1)))\n",
    "\n",
    "        precision = TP / (Pred_Positives+K.epsilon())\n",
    "        return precision\n",
    "\n",
    "    precision, recall = precision_m(y_true, y_pred), recall_m(y_true, y_pred)\n",
    "\n",
    "    return 2*((precision*recall)/(precision+recall+K.epsilon()))"
   ]
  },
  {
   "cell_type": "code",
   "execution_count": 41,
   "metadata": {},
   "outputs": [
    {
     "name": "stdout",
     "output_type": "stream",
     "text": [
      "Trial 121 Complete [00h 00m 03s]\n",
      "val_accuracy: 0.6000000238418579\n",
      "\n",
      "Best val_accuracy So Far: 0.75\n",
      "Total elapsed time: 00h 06m 35s\n",
      "INFO:tensorflow:Oracle triggered exit\n",
      "Epoch 1/30\n",
      "11/11 [==============================] - 1s 3ms/step - loss: 3.8501 - custom_f1: 0.3247 - accuracy: 0.3294\n",
      "Epoch 2/30\n",
      "11/11 [==============================] - 0s 3ms/step - loss: 1.4953 - custom_f1: 0.3776 - accuracy: 0.4353\n",
      "Epoch 3/30\n",
      "11/11 [==============================] - 0s 4ms/step - loss: 1.0351 - custom_f1: 0.4302 - accuracy: 0.5500\n",
      "Epoch 4/30\n",
      "11/11 [==============================] - 0s 4ms/step - loss: 0.9397 - custom_f1: 0.5143 - accuracy: 0.5706\n",
      "Epoch 5/30\n",
      "11/11 [==============================] - 0s 3ms/step - loss: 0.9399 - custom_f1: 0.5592 - accuracy: 0.5912\n",
      "Epoch 6/30\n",
      "11/11 [==============================] - 0s 4ms/step - loss: 0.9074 - custom_f1: 0.5573 - accuracy: 0.6118\n",
      "Epoch 7/30\n",
      "11/11 [==============================] - 0s 4ms/step - loss: 0.7362 - custom_f1: 0.6639 - accuracy: 0.7059\n",
      "Epoch 8/30\n",
      "11/11 [==============================] - 0s 4ms/step - loss: 0.7738 - custom_f1: 0.7396 - accuracy: 0.7441\n",
      "Epoch 9/30\n",
      "11/11 [==============================] - 0s 4ms/step - loss: 0.5922 - custom_f1: 0.7509 - accuracy: 0.7618\n",
      "Epoch 10/30\n",
      "11/11 [==============================] - 0s 4ms/step - loss: 0.4950 - custom_f1: 0.7902 - accuracy: 0.7794\n",
      "Epoch 11/30\n",
      "11/11 [==============================] - 0s 4ms/step - loss: 0.4566 - custom_f1: 0.8582 - accuracy: 0.8588\n",
      "Epoch 12/30\n",
      "11/11 [==============================] - 0s 3ms/step - loss: 0.3922 - custom_f1: 0.8594 - accuracy: 0.8471\n",
      "Epoch 13/30\n",
      "11/11 [==============================] - 0s 3ms/step - loss: 0.2691 - custom_f1: 0.8972 - accuracy: 0.8971\n",
      "Epoch 14/30\n",
      "11/11 [==============================] - 0s 3ms/step - loss: 0.3435 - custom_f1: 0.8793 - accuracy: 0.8765\n",
      "Epoch 15/30\n",
      "11/11 [==============================] - 0s 3ms/step - loss: 0.3418 - custom_f1: 0.8842 - accuracy: 0.8882\n",
      "Epoch 16/30\n",
      "11/11 [==============================] - 0s 3ms/step - loss: 0.3311 - custom_f1: 0.8858 - accuracy: 0.8824\n",
      "Epoch 17/30\n",
      "11/11 [==============================] - 0s 3ms/step - loss: 0.3528 - custom_f1: 0.9019 - accuracy: 0.8971\n",
      "Epoch 18/30\n",
      "11/11 [==============================] - 0s 3ms/step - loss: 0.3250 - custom_f1: 0.9129 - accuracy: 0.9147\n",
      "Epoch 19/30\n",
      "11/11 [==============================] - 0s 3ms/step - loss: 0.3437 - custom_f1: 0.8997 - accuracy: 0.9000\n",
      "Epoch 20/30\n",
      "11/11 [==============================] - 0s 4ms/step - loss: 0.3527 - custom_f1: 0.8752 - accuracy: 0.8794\n",
      "Epoch 21/30\n",
      "11/11 [==============================] - 0s 3ms/step - loss: 0.2654 - custom_f1: 0.9190 - accuracy: 0.9206\n",
      "Epoch 22/30\n",
      "11/11 [==============================] - 0s 3ms/step - loss: 0.1804 - custom_f1: 0.9367 - accuracy: 0.9353\n",
      "Epoch 23/30\n",
      "11/11 [==============================] - 0s 3ms/step - loss: 0.1045 - custom_f1: 0.9727 - accuracy: 0.9706\n",
      "Epoch 24/30\n",
      "11/11 [==============================] - 0s 3ms/step - loss: 0.0662 - custom_f1: 0.9815 - accuracy: 0.9824\n",
      "Epoch 25/30\n",
      "11/11 [==============================] - 0s 3ms/step - loss: 0.0513 - custom_f1: 0.9858 - accuracy: 0.9853\n",
      "Epoch 26/30\n",
      "11/11 [==============================] - 0s 3ms/step - loss: 0.0330 - custom_f1: 0.9943 - accuracy: 0.9941\n",
      "Epoch 27/30\n",
      "11/11 [==============================] - 0s 3ms/step - loss: 0.0227 - custom_f1: 0.9972 - accuracy: 0.9971\n",
      "Epoch 28/30\n",
      "11/11 [==============================] - 0s 3ms/step - loss: 0.0155 - custom_f1: 0.9972 - accuracy: 0.9971\n",
      "Epoch 29/30\n",
      "11/11 [==============================] - 0s 3ms/step - loss: 0.0134 - custom_f1: 0.9972 - accuracy: 0.9971\n",
      "Epoch 30/30\n",
      "11/11 [==============================] - 0s 3ms/step - loss: 0.0604 - custom_f1: 0.9943 - accuracy: 0.9941\n",
      "INFO:tensorflow:Assets written to: ./structured_data_classifier/best_model/assets\n"
     ]
    },
    {
     "data": {
      "text/plain": [
       "<keras.callbacks.History at 0x7fa7dc4175b0>"
      ]
     },
     "execution_count": 41,
     "metadata": {},
     "output_type": "execute_result"
    }
   ],
   "source": [
    "mmm = ak.StructuredDataClassifier(overwrite=True, max_trials=200, metrics=[custom_f1, 'accuracy'])\n",
    "\n",
    "mmm.fit(X_train, y_train, validation_split=0.15, epochs=30)\n",
    "#mmm.fit(X_train, y_train, epochs=25)"
   ]
  },
  {
   "cell_type": "code",
   "execution_count": 49,
   "metadata": {},
   "outputs": [],
   "source": [
    "import keras\n",
    "keras.utils.get_custom_objects()['custom_f1'] = custom_f1"
   ]
  },
  {
   "cell_type": "code",
   "execution_count": 50,
   "metadata": {},
   "outputs": [],
   "source": [
    "model = mmm.export_model()"
   ]
  },
  {
   "cell_type": "code",
   "execution_count": 51,
   "metadata": {},
   "outputs": [
    {
     "name": "stdout",
     "output_type": "stream",
     "text": [
      "Model: \"model\"\n",
      "_________________________________________________________________\n",
      " Layer (type)                Output Shape              Param #   \n",
      "=================================================================\n",
      " input_1 (InputLayer)        [(None, 35)]              0         \n",
      "                                                                 \n",
      " multi_category_encoding (Mu  (None, 35)               0         \n",
      " ltiCategoryEncoding)                                            \n",
      "                                                                 \n",
      " dense (Dense)               (None, 256)               9216      \n",
      "                                                                 \n",
      " batch_normalization (BatchN  (None, 256)              1024      \n",
      " ormalization)                                                   \n",
      "                                                                 \n",
      " re_lu (ReLU)                (None, 256)               0         \n",
      "                                                                 \n",
      " dense_1 (Dense)             (None, 1024)              263168    \n",
      "                                                                 \n",
      " batch_normalization_1 (Batc  (None, 1024)             4096      \n",
      " hNormalization)                                                 \n",
      "                                                                 \n",
      " re_lu_1 (ReLU)              (None, 1024)              0         \n",
      "                                                                 \n",
      " dense_2 (Dense)             (None, 3)                 3075      \n",
      "                                                                 \n",
      " classification_head_1 (Soft  (None, 3)                0         \n",
      " max)                                                            \n",
      "                                                                 \n",
      "=================================================================\n",
      "Total params: 280,579\n",
      "Trainable params: 278,019\n",
      "Non-trainable params: 2,560\n",
      "_________________________________________________________________\n"
     ]
    }
   ],
   "source": [
    "model.summary()"
   ]
  },
  {
   "cell_type": "code",
   "execution_count": 52,
   "metadata": {},
   "outputs": [
    {
     "name": "stdout",
     "output_type": "stream",
     "text": [
      "INFO:tensorflow:Assets written to: autokeras_model/assets\n"
     ]
    }
   ],
   "source": [
    "model.save('autokeras_model')"
   ]
  }
 ],
 "metadata": {
  "kernelspec": {
   "display_name": "Python 3",
   "language": "python",
   "name": "python3"
  },
  "language_info": {
   "codemirror_mode": {
    "name": "ipython",
    "version": 3
   },
   "file_extension": ".py",
   "mimetype": "text/x-python",
   "name": "python",
   "nbconvert_exporter": "python",
   "pygments_lexer": "ipython3",
   "version": "3.10.8"
  },
  "orig_nbformat": 4
 },
 "nbformat": 4,
 "nbformat_minor": 2
}
