{
 "cells": [
  {
   "cell_type": "code",
   "execution_count": 20,
   "metadata": {},
   "outputs": [],
   "source": [
    "import tensorflow as tf"
   ]
  },
  {
   "cell_type": "code",
   "execution_count": 1,
   "metadata": {},
   "outputs": [
    {
     "name": "stderr",
     "output_type": "stream",
     "text": [
      "2023-07-23 02:49:13.501536: I tensorflow/core/platform/cpu_feature_guard.cc:193] This TensorFlow binary is optimized with oneAPI Deep Neural Network Library (oneDNN) to use the following CPU instructions in performance-critical operations:  SSE4.1 SSE4.2 AVX AVX2 FMA\n",
      "To enable them in other operations, rebuild TensorFlow with the appropriate compiler flags.\n"
     ]
    }
   ],
   "source": [
    "import autokeras as ak"
   ]
  },
  {
   "cell_type": "code",
   "execution_count": 21,
   "metadata": {},
   "outputs": [],
   "source": [
    "import pandas as pd\n",
    "from sklearn.model_selection import train_test_split\n",
    "import numpy as np\n",
    "\n",
    "df = pd.read_csv('data/experimental_df.csv')\n"
   ]
  },
  {
   "cell_type": "code",
   "execution_count": 46,
   "metadata": {},
   "outputs": [],
   "source": [
    "X_train = df.drop(columns=['Winner'])\n",
    "y_train = df['Winner'].astype(int)"
   ]
  },
  {
   "cell_type": "code",
   "execution_count": 48,
   "metadata": {},
   "outputs": [
    {
     "name": "stdout",
     "output_type": "stream",
     "text": [
      "INFO:tensorflow:Reloading Tuner from ./structured_data_classifier/tuner0.json\n"
     ]
    }
   ],
   "source": [
    "clf = ak.StructuredDataClassifier()"
   ]
  },
  {
   "cell_type": "code",
   "execution_count": 49,
   "metadata": {},
   "outputs": [
    {
     "name": "stdout",
     "output_type": "stream",
     "text": [
      "Trial 62 Complete [00h 00m 02s]\n",
      "val_accuracy: 0.27272728085517883\n",
      "\n",
      "Best val_accuracy So Far: 0.9090909361839294\n",
      "Total elapsed time: 00h 02m 28s\n",
      "INFO:tensorflow:Oracle triggered exit\n",
      "Epoch 1/10\n",
      "9/9 [==============================] - 0s 3ms/step - loss: 1.3436 - accuracy: 0.4307\n",
      "Epoch 2/10\n",
      "9/9 [==============================] - 0s 3ms/step - loss: 1.2618 - accuracy: 0.4120\n",
      "Epoch 3/10\n",
      "9/9 [==============================] - 0s 3ms/step - loss: 1.2294 - accuracy: 0.4045\n",
      "Epoch 4/10\n",
      "9/9 [==============================] - 0s 3ms/step - loss: 1.2472 - accuracy: 0.3858\n",
      "Epoch 5/10\n",
      "9/9 [==============================] - 0s 3ms/step - loss: 1.2012 - accuracy: 0.3745\n",
      "Epoch 6/10\n",
      "9/9 [==============================] - 0s 3ms/step - loss: 1.2746 - accuracy: 0.4120\n",
      "Epoch 7/10\n",
      "9/9 [==============================] - 0s 3ms/step - loss: 1.2124 - accuracy: 0.3783\n",
      "Epoch 8/10\n",
      "9/9 [==============================] - 0s 3ms/step - loss: 1.1964 - accuracy: 0.4195\n",
      "Epoch 9/10\n",
      "9/9 [==============================] - 0s 3ms/step - loss: 1.1320 - accuracy: 0.4082\n",
      "Epoch 10/10\n",
      "9/9 [==============================] - 0s 3ms/step - loss: 1.1283 - accuracy: 0.3745\n",
      "INFO:tensorflow:Assets written to: ./structured_data_classifier/best_model/assets\n"
     ]
    },
    {
     "data": {
      "text/plain": [
       "<keras.callbacks.History at 0x7f37706a4e50>"
      ]
     },
     "execution_count": 49,
     "metadata": {},
     "output_type": "execute_result"
    }
   ],
   "source": [
    "clf.fit(X_train, y_train, epochs=10)\n"
   ]
  },
  {
   "cell_type": "code",
   "execution_count": 59,
   "metadata": {},
   "outputs": [],
   "source": [
    "model = clf.export_model()"
   ]
  },
  {
   "cell_type": "code",
   "execution_count": 60,
   "metadata": {},
   "outputs": [
    {
     "name": "stdout",
     "output_type": "stream",
     "text": [
      "Model: \"model\"\n",
      "_________________________________________________________________\n",
      " Layer (type)                Output Shape              Param #   \n",
      "=================================================================\n",
      " input_1 (InputLayer)        [(None, 38)]              0         \n",
      "                                                                 \n",
      " multi_category_encoding (Mu  (None, 38)               0         \n",
      " ltiCategoryEncoding)                                            \n",
      "                                                                 \n",
      " normalization (Normalizatio  (None, 38)               77        \n",
      " n)                                                              \n",
      "                                                                 \n",
      " dense (Dense)               (None, 16)                624       \n",
      "                                                                 \n",
      " re_lu (ReLU)                (None, 16)                0         \n",
      "                                                                 \n",
      " dropout (Dropout)           (None, 16)                0         \n",
      "                                                                 \n",
      " dense_1 (Dense)             (None, 32)                544       \n",
      "                                                                 \n",
      " re_lu_1 (ReLU)              (None, 32)                0         \n",
      "                                                                 \n",
      " dropout_1 (Dropout)         (None, 32)                0         \n",
      "                                                                 \n",
      " dense_2 (Dense)             (None, 3)                 99        \n",
      "                                                                 \n",
      " classification_head_1 (Soft  (None, 3)                0         \n",
      " max)                                                            \n",
      "                                                                 \n",
      "=================================================================\n",
      "Total params: 1,344\n",
      "Trainable params: 1,267\n",
      "Non-trainable params: 77\n",
      "_________________________________________________________________\n"
     ]
    }
   ],
   "source": [
    "model.summary()"
   ]
  },
  {
   "cell_type": "code",
   "execution_count": 61,
   "metadata": {},
   "outputs": [
    {
     "name": "stdout",
     "output_type": "stream",
     "text": [
      "INFO:tensorflow:Assets written to: autokeras_model/assets\n"
     ]
    }
   ],
   "source": [
    "model.save('autokeras_model')"
   ]
  }
 ],
 "metadata": {
  "kernelspec": {
   "display_name": "Python 3",
   "language": "python",
   "name": "python3"
  },
  "language_info": {
   "codemirror_mode": {
    "name": "ipython",
    "version": 3
   },
   "file_extension": ".py",
   "mimetype": "text/x-python",
   "name": "python",
   "nbconvert_exporter": "python",
   "pygments_lexer": "ipython3",
   "version": "3.10.8"
  },
  "orig_nbformat": 4
 },
 "nbformat": 4,
 "nbformat_minor": 2
}
