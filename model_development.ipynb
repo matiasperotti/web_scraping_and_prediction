{
 "cells": [
  {
   "cell_type": "code",
   "execution_count": 1,
   "metadata": {},
   "outputs": [
    {
     "name": "stderr",
     "output_type": "stream",
     "text": [
      "2023-09-01 20:49:24.434002: I tensorflow/core/platform/cpu_feature_guard.cc:193] This TensorFlow binary is optimized with oneAPI Deep Neural Network Library (oneDNN) to use the following CPU instructions in performance-critical operations:  SSE4.1 SSE4.2 AVX AVX2 FMA\n",
      "To enable them in other operations, rebuild TensorFlow with the appropriate compiler flags.\n"
     ]
    }
   ],
   "source": [
    "import tensorflow as tf"
   ]
  },
  {
   "cell_type": "code",
   "execution_count": 2,
   "metadata": {},
   "outputs": [],
   "source": [
    "import autokeras as ak"
   ]
  },
  {
   "cell_type": "code",
   "execution_count": 3,
   "metadata": {},
   "outputs": [],
   "source": [
    "import pandas as pd\n",
    "from sklearn.model_selection import train_test_split\n",
    "import numpy as np\n",
    "\n",
    "df = pd.read_csv('data/experimental_df.csv')\n"
   ]
  },
  {
   "cell_type": "code",
   "execution_count": 4,
   "metadata": {},
   "outputs": [
    {
     "data": {
      "text/plain": [
       "\"X_train = df.drop(columns=['Winner'])\\nX_train = X_train.drop(columns=['Unnamed: 0'])\\ny_train = df['Winner'].astype(int)\""
      ]
     },
     "execution_count": 4,
     "metadata": {},
     "output_type": "execute_result"
    }
   ],
   "source": [
    "\"\"\"X_train = df.drop(columns=['Winner'])\n",
    "X_train = X_train.drop(columns=['Unnamed: 0'])\n",
    "y_train = df['Winner'].astype(int)\"\"\""
   ]
  },
  {
   "cell_type": "code",
   "execution_count": 5,
   "metadata": {},
   "outputs": [],
   "source": [
    "X_train = df.drop(columns=['Winner'])\n",
    "X_train = X_train.drop(columns=['Unnamed: 0'])\n",
    "y_train = df['Winner'].astype(int)"
   ]
  },
  {
   "cell_type": "code",
   "execution_count": 6,
   "metadata": {},
   "outputs": [
    {
     "data": {
      "text/plain": [
       "Index(['a', 'b', 'c', 'd', 'e', 'f', 'g'], dtype='object')"
      ]
     },
     "execution_count": 6,
     "metadata": {},
     "output_type": "execute_result"
    }
   ],
   "source": [
    "X_train.columns"
   ]
  },
  {
   "cell_type": "code",
   "execution_count": 7,
   "metadata": {},
   "outputs": [
    {
     "name": "stdout",
     "output_type": "stream",
     "text": [
      "Trial 30 Complete [00h 00m 02s]\n",
      "val_accuracy: 0.550000011920929\n",
      "\n",
      "Best val_accuracy So Far: 0.6499999761581421\n",
      "Total elapsed time: 00h 01m 31s\n",
      "INFO:tensorflow:Oracle triggered exit\n",
      "Epoch 1/30\n",
      "11/11 [==============================] - 0s 1ms/step - loss: 1.0788 - accuracy: 0.4441\n",
      "Epoch 2/30\n",
      "11/11 [==============================] - 0s 1ms/step - loss: 1.0729 - accuracy: 0.4353\n",
      "Epoch 3/30\n",
      "11/11 [==============================] - 0s 1ms/step - loss: 1.0850 - accuracy: 0.4324\n",
      "Epoch 4/30\n",
      "11/11 [==============================] - 0s 1ms/step - loss: 1.0606 - accuracy: 0.4412\n",
      "Epoch 5/30\n",
      "11/11 [==============================] - 0s 1ms/step - loss: 1.0751 - accuracy: 0.4382\n",
      "Epoch 6/30\n",
      "11/11 [==============================] - 0s 1ms/step - loss: 1.0663 - accuracy: 0.4412\n",
      "Epoch 7/30\n",
      "11/11 [==============================] - 0s 1ms/step - loss: 1.0715 - accuracy: 0.4559\n",
      "Epoch 8/30\n",
      "11/11 [==============================] - 0s 1ms/step - loss: 1.0546 - accuracy: 0.4529\n",
      "Epoch 9/30\n",
      "11/11 [==============================] - 0s 2ms/step - loss: 1.0554 - accuracy: 0.4441\n",
      "Epoch 10/30\n",
      "11/11 [==============================] - 0s 1ms/step - loss: 1.0507 - accuracy: 0.4353\n",
      "Epoch 11/30\n",
      "11/11 [==============================] - 0s 1ms/step - loss: 1.0499 - accuracy: 0.4500\n",
      "Epoch 12/30\n",
      "11/11 [==============================] - 0s 1ms/step - loss: 1.0530 - accuracy: 0.4529\n",
      "Epoch 13/30\n",
      "11/11 [==============================] - 0s 1ms/step - loss: 1.0611 - accuracy: 0.4412\n",
      "Epoch 14/30\n",
      "11/11 [==============================] - 0s 1ms/step - loss: 1.0544 - accuracy: 0.4618\n",
      "Epoch 15/30\n",
      "11/11 [==============================] - 0s 1ms/step - loss: 1.0650 - accuracy: 0.4559\n",
      "Epoch 16/30\n",
      "11/11 [==============================] - 0s 1ms/step - loss: 1.0387 - accuracy: 0.4559\n",
      "Epoch 17/30\n",
      "11/11 [==============================] - 0s 1ms/step - loss: 1.0585 - accuracy: 0.4441\n",
      "Epoch 18/30\n",
      "11/11 [==============================] - 0s 1ms/step - loss: 1.0514 - accuracy: 0.4559\n",
      "Epoch 19/30\n",
      "11/11 [==============================] - 0s 1ms/step - loss: 1.0548 - accuracy: 0.4529\n",
      "Epoch 20/30\n",
      "11/11 [==============================] - 0s 1ms/step - loss: 1.0503 - accuracy: 0.4588\n",
      "Epoch 21/30\n",
      "11/11 [==============================] - 0s 1ms/step - loss: 1.0583 - accuracy: 0.4471\n",
      "Epoch 22/30\n",
      "11/11 [==============================] - 0s 1ms/step - loss: 1.0384 - accuracy: 0.4382\n",
      "Epoch 23/30\n",
      "11/11 [==============================] - 0s 1ms/step - loss: 1.0532 - accuracy: 0.4471\n",
      "Epoch 24/30\n",
      "11/11 [==============================] - 0s 1ms/step - loss: 1.0460 - accuracy: 0.4529\n",
      "Epoch 25/30\n",
      "11/11 [==============================] - 0s 1ms/step - loss: 1.0474 - accuracy: 0.4353\n",
      "Epoch 26/30\n",
      "11/11 [==============================] - 0s 1ms/step - loss: 1.0427 - accuracy: 0.4735\n",
      "Epoch 27/30\n",
      "11/11 [==============================] - 0s 1ms/step - loss: 1.0423 - accuracy: 0.4735\n",
      "Epoch 28/30\n",
      "11/11 [==============================] - 0s 1ms/step - loss: 1.0442 - accuracy: 0.4559\n",
      "Epoch 29/30\n",
      "11/11 [==============================] - 0s 1ms/step - loss: 1.0446 - accuracy: 0.4559\n",
      "Epoch 30/30\n",
      "11/11 [==============================] - 0s 1ms/step - loss: 1.0436 - accuracy: 0.4618\n",
      "INFO:tensorflow:Assets written to: ./structured_data_classifier/best_model/assets\n"
     ]
    },
    {
     "data": {
      "text/plain": [
       "<keras.callbacks.History at 0x7f4744fbc2b0>"
      ]
     },
     "execution_count": 7,
     "metadata": {},
     "output_type": "execute_result"
    }
   ],
   "source": [
    "clf = ak.StructuredDataClassifier(overwrite=True, max_trials=30, metrics='accuracy')\n",
    "\n",
    "clf.fit(X_train, y_train, validation_split=0.15, epochs=30)\n",
    "#clf.fit(X_train, y_train, epochs=25)"
   ]
  },
  {
   "attachments": {},
   "cell_type": "markdown",
   "metadata": {},
   "source": [
    "custom_f1 from https://neptune.ai/blog/implementing-the-macro-f1-score-in-keras"
   ]
  },
  {
   "cell_type": "code",
   "execution_count": 8,
   "metadata": {},
   "outputs": [],
   "source": [
    "from tensorflow.keras import backend as K\n",
    "\n",
    "def custom_f1(y_true, y_pred):\n",
    "    def recall_m(y_true, y_pred):\n",
    "        TP = K.sum(K.round(K.clip(y_true * y_pred, 0, 1)))\n",
    "        Positives = K.sum(K.round(K.clip(y_true, 0, 1)))\n",
    "\n",
    "        recall = TP / (Positives+K.epsilon())\n",
    "        return recall\n",
    "\n",
    "\n",
    "    def precision_m(y_true, y_pred):\n",
    "        TP = K.sum(K.round(K.clip(y_true * y_pred, 0, 1)))\n",
    "        Pred_Positives = K.sum(K.round(K.clip(y_pred, 0, 1)))\n",
    "\n",
    "        precision = TP / (Pred_Positives+K.epsilon())\n",
    "        return precision\n",
    "\n",
    "    precision, recall = precision_m(y_true, y_pred), recall_m(y_true, y_pred)\n",
    "\n",
    "    return 2*((precision*recall)/(precision+recall+K.epsilon()))"
   ]
  },
  {
   "cell_type": "code",
   "execution_count": 9,
   "metadata": {},
   "outputs": [
    {
     "name": "stdout",
     "output_type": "stream",
     "text": [
      "Trial 30 Complete [00h 00m 02s]\n",
      "val_accuracy: 0.44999998807907104\n",
      "\n",
      "Best val_accuracy So Far: 0.75\n",
      "Total elapsed time: 00h 01m 30s\n",
      "INFO:tensorflow:Oracle triggered exit\n",
      "Epoch 1/30\n",
      "11/11 [==============================] - 1s 2ms/step - loss: 1.2248 - custom_f1: 0.1380 - accuracy: 0.3176\n",
      "Epoch 2/30\n",
      "11/11 [==============================] - 0s 2ms/step - loss: 1.1152 - custom_f1: 0.1699 - accuracy: 0.3794\n",
      "Epoch 3/30\n",
      "11/11 [==============================] - 0s 2ms/step - loss: 1.0711 - custom_f1: 0.1527 - accuracy: 0.4353\n",
      "Epoch 4/30\n",
      "11/11 [==============================] - 0s 2ms/step - loss: 1.0448 - custom_f1: 0.1466 - accuracy: 0.4500\n",
      "Epoch 5/30\n",
      "11/11 [==============================] - 0s 2ms/step - loss: 1.0257 - custom_f1: 0.1758 - accuracy: 0.4735\n",
      "Epoch 6/30\n",
      "11/11 [==============================] - 0s 2ms/step - loss: 1.0103 - custom_f1: 0.1902 - accuracy: 0.5118\n",
      "Epoch 7/30\n",
      "11/11 [==============================] - 0s 2ms/step - loss: 0.9984 - custom_f1: 0.2201 - accuracy: 0.5206\n",
      "Epoch 8/30\n",
      "11/11 [==============================] - 0s 2ms/step - loss: 0.9871 - custom_f1: 0.2586 - accuracy: 0.5235\n",
      "Epoch 9/30\n",
      "11/11 [==============================] - 0s 2ms/step - loss: 0.9794 - custom_f1: 0.2613 - accuracy: 0.5265\n",
      "Epoch 10/30\n",
      "11/11 [==============================] - 0s 2ms/step - loss: 0.9700 - custom_f1: 0.2763 - accuracy: 0.5441\n",
      "Epoch 11/30\n",
      "11/11 [==============================] - 0s 2ms/step - loss: 0.9629 - custom_f1: 0.3151 - accuracy: 0.5324\n",
      "Epoch 12/30\n",
      "11/11 [==============================] - 0s 2ms/step - loss: 0.9549 - custom_f1: 0.3190 - accuracy: 0.5353\n",
      "Epoch 13/30\n",
      "11/11 [==============================] - 0s 2ms/step - loss: 0.9479 - custom_f1: 0.3207 - accuracy: 0.5235\n",
      "Epoch 14/30\n",
      "11/11 [==============================] - 0s 2ms/step - loss: 0.9409 - custom_f1: 0.3339 - accuracy: 0.5353\n",
      "Epoch 15/30\n",
      "11/11 [==============================] - 0s 2ms/step - loss: 0.9355 - custom_f1: 0.3321 - accuracy: 0.5294\n",
      "Epoch 16/30\n",
      "11/11 [==============================] - 0s 2ms/step - loss: 0.9294 - custom_f1: 0.3438 - accuracy: 0.5353\n",
      "Epoch 17/30\n",
      "11/11 [==============================] - 0s 2ms/step - loss: 0.9216 - custom_f1: 0.3865 - accuracy: 0.5412\n",
      "Epoch 18/30\n",
      "11/11 [==============================] - 0s 2ms/step - loss: 0.9148 - custom_f1: 0.3912 - accuracy: 0.5441\n",
      "Epoch 19/30\n",
      "11/11 [==============================] - 0s 2ms/step - loss: 0.9071 - custom_f1: 0.4072 - accuracy: 0.5588\n",
      "Epoch 20/30\n",
      "11/11 [==============================] - 0s 2ms/step - loss: 0.8988 - custom_f1: 0.4332 - accuracy: 0.5588\n",
      "Epoch 21/30\n",
      "11/11 [==============================] - 0s 2ms/step - loss: 0.8944 - custom_f1: 0.4524 - accuracy: 0.5647\n",
      "Epoch 22/30\n",
      "11/11 [==============================] - 0s 2ms/step - loss: 0.8871 - custom_f1: 0.4645 - accuracy: 0.5735\n",
      "Epoch 23/30\n",
      "11/11 [==============================] - 0s 2ms/step - loss: 0.8876 - custom_f1: 0.4715 - accuracy: 0.5647\n",
      "Epoch 24/30\n",
      "11/11 [==============================] - 0s 2ms/step - loss: 0.8790 - custom_f1: 0.4709 - accuracy: 0.5794\n",
      "Epoch 25/30\n",
      "11/11 [==============================] - 0s 2ms/step - loss: 0.8742 - custom_f1: 0.4906 - accuracy: 0.5735\n",
      "Epoch 26/30\n",
      "11/11 [==============================] - 0s 2ms/step - loss: 0.8676 - custom_f1: 0.4859 - accuracy: 0.5941\n",
      "Epoch 27/30\n",
      "11/11 [==============================] - 0s 2ms/step - loss: 0.8624 - custom_f1: 0.5044 - accuracy: 0.5853\n",
      "Epoch 28/30\n",
      "11/11 [==============================] - 0s 2ms/step - loss: 0.8603 - custom_f1: 0.5004 - accuracy: 0.5912\n",
      "Epoch 29/30\n",
      "11/11 [==============================] - 0s 2ms/step - loss: 0.8505 - custom_f1: 0.5024 - accuracy: 0.6059\n",
      "Epoch 30/30\n",
      "11/11 [==============================] - 0s 2ms/step - loss: 0.8462 - custom_f1: 0.5036 - accuracy: 0.6088\n",
      "INFO:tensorflow:Assets written to: ./structured_data_classifier/best_model/assets\n"
     ]
    },
    {
     "data": {
      "text/plain": [
       "<keras.callbacks.History at 0x7f47443592d0>"
      ]
     },
     "execution_count": 9,
     "metadata": {},
     "output_type": "execute_result"
    }
   ],
   "source": [
    "mmm = ak.StructuredDataClassifier(overwrite=True, max_trials=30, metrics=[custom_f1, 'accuracy'])\n",
    "\n",
    "mmm.fit(X_train, y_train, validation_split=0.15, epochs=30)\n",
    "#mmm.fit(X_train, y_train, epochs=25)"
   ]
  },
  {
   "cell_type": "code",
   "execution_count": 10,
   "metadata": {},
   "outputs": [],
   "source": [
    "import keras\n",
    "keras.utils.get_custom_objects()['custom_f1'] = custom_f1"
   ]
  },
  {
   "cell_type": "code",
   "execution_count": 11,
   "metadata": {},
   "outputs": [],
   "source": [
    "model = mmm.export_model()"
   ]
  },
  {
   "cell_type": "code",
   "execution_count": 12,
   "metadata": {},
   "outputs": [
    {
     "name": "stdout",
     "output_type": "stream",
     "text": [
      "Model: \"model\"\n",
      "_________________________________________________________________\n",
      " Layer (type)                Output Shape              Param #   \n",
      "=================================================================\n",
      " input_1 (InputLayer)        [(None, 7)]               0         \n",
      "                                                                 \n",
      " multi_category_encoding (Mu  (None, 7)                0         \n",
      " ltiCategoryEncoding)                                            \n",
      "                                                                 \n",
      " dense (Dense)               (None, 32)                256       \n",
      "                                                                 \n",
      " batch_normalization (BatchN  (None, 32)               128       \n",
      " ormalization)                                                   \n",
      "                                                                 \n",
      " re_lu (ReLU)                (None, 32)                0         \n",
      "                                                                 \n",
      " dense_1 (Dense)             (None, 32)                1056      \n",
      "                                                                 \n",
      " batch_normalization_1 (Batc  (None, 32)               128       \n",
      " hNormalization)                                                 \n",
      "                                                                 \n",
      " re_lu_1 (ReLU)              (None, 32)                0         \n",
      "                                                                 \n",
      " dense_2 (Dense)             (None, 32)                1056      \n",
      "                                                                 \n",
      " batch_normalization_2 (Batc  (None, 32)               128       \n",
      " hNormalization)                                                 \n",
      "                                                                 \n",
      " re_lu_2 (ReLU)              (None, 32)                0         \n",
      "                                                                 \n",
      " dense_3 (Dense)             (None, 3)                 99        \n",
      "                                                                 \n",
      " classification_head_1 (Soft  (None, 3)                0         \n",
      " max)                                                            \n",
      "                                                                 \n",
      "=================================================================\n",
      "Total params: 2,851\n",
      "Trainable params: 2,659\n",
      "Non-trainable params: 192\n",
      "_________________________________________________________________\n"
     ]
    }
   ],
   "source": [
    "model.summary()"
   ]
  },
  {
   "cell_type": "code",
   "execution_count": 13,
   "metadata": {},
   "outputs": [
    {
     "name": "stdout",
     "output_type": "stream",
     "text": [
      "INFO:tensorflow:Assets written to: autokeras_model/assets\n"
     ]
    }
   ],
   "source": [
    "model.save('autokeras_model')"
   ]
  }
 ],
 "metadata": {
  "kernelspec": {
   "display_name": "Python 3",
   "language": "python",
   "name": "python3"
  },
  "language_info": {
   "codemirror_mode": {
    "name": "ipython",
    "version": 3
   },
   "file_extension": ".py",
   "mimetype": "text/x-python",
   "name": "python",
   "nbconvert_exporter": "python",
   "pygments_lexer": "ipython3",
   "version": "3.10.8"
  },
  "orig_nbformat": 4
 },
 "nbformat": 4,
 "nbformat_minor": 2
}
